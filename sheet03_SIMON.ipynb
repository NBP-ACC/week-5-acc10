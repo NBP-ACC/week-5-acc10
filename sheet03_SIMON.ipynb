{
 "cells": [
  {
   "cell_type": "markdown",
   "metadata": {},
   "source": [
    "Osnabrück University - A&C: Computational Cognition (Summer Term 2019)"
   ]
  },
  {
   "cell_type": "markdown",
   "metadata": {},
   "source": [
    "# Exercise Sheet 03: Analysis of behavioural data"
   ]
  },
  {
   "cell_type": "markdown",
   "metadata": {},
   "source": [
    "## Introduction\n",
    "\n",
    "This week's sheet should be solved and handed in at 14:00 at **Tuesday, May 7, 2019**. If you need help (and Google and other resources were not enough), feel free to contact your tutors. Please push your results to your Github group folder.\n",
    "\n",
    "In this exercise sheet we will start to work on a real dataset from an ongoing experiment. In this experiment the participants were asked to freely explore an unknown virtual city, called Seahaven, with an interactive map. After a sufficiently long exploration the participants were tested on three different tasks: \n",
    "\n",
    "- the **absolute orientation** of a single house towards the north cardinal direction\n",
    "- the **relative orientation** between two houses \n",
    "- **pointing** from the location of one house to the other\n",
    "\n",
    "Each task type was performed in two time conditions:\n",
    "\n",
    "- **3 seconds** for spontaneous decisions\n",
    "- **infinite** response time for cognitive reasoning\n",
    "\n",
    "These measurements were repeated up to three times on different days.\n",
    "\n",
    "We will provide you with more detailed information about this experiment in the tutorial. If you are interested in more than this feel free to have a look at the paper https://www.biorxiv.org/content/10.1101/539080v1.\n",
    "\n",
    "A small side remark to the dataset: The RTs for the absolute task are exactly the same for both time conditions. This is an error that cannot be corrected on a short notice. Please keep that in mind, when you evaluate your plots."
   ]
  },
  {
   "cell_type": "markdown",
   "metadata": {},
   "source": [
    "## Assignment 0: Peer review for sheet 02 [3 pts]"
   ]
  },
  {
   "cell_type": "markdown",
   "metadata": {},
   "source": [
    "Open an issue in the repository of the groups you have to check. The title of the issue should be your group name (e.g. \"Group1). Comment on what was good and what was bad, the aesthetics and ease of reading the plots, what you would have done differently and how many points you would give them for their solutions.\n",
    "\n",
    "| * |Group 1|Group 2|Group 3|Group 4|Group 5|Group 6|Group 7|Group 8|Group 9|Group 10|Group 11|\n",
    "| ------- | ----- | ----- | ----- | ----- | ----- | ----- | ----- | ----- | ----- | ------ | ------ |\n",
    "| check solutions of group: | 11, 9 | 5, 1  | 8, 2  | 2, 7 | 10, 6 | 7, 11 | 6, 5  | 4, 3  | 3, 8  | 1, 4   | 9, 10  |"
   ]
  },
  {
   "cell_type": "markdown",
   "metadata": {},
   "source": [
    "## Assignment 1: Preprocessing [3 pts]"
   ]
  },
  {
   "cell_type": "code",
   "execution_count": 1,
   "metadata": {},
   "outputs": [],
   "source": [
    "import os\n",
    "import numpy as np\n",
    "import pandas as pd\n",
    "import matplotlib.pyplot as plt\n",
    "import seaborn as sns\n",
    "sns.set()\n",
    "from scipy import stats\n",
    "import xlrd"
   ]
  },
  {
   "cell_type": "code",
   "execution_count": 2,
   "metadata": {},
   "outputs": [],
   "source": [
    "# use pd.set_option here to display in a nice way\n",
    "# only display 30 rows\n",
    "pd.set_option(\"display.max_rows\", 30)\n",
    "# displays precision for decimal numbers\n",
    "pd.set_option(\"display.precision\", 3)"
   ]
  },
  {
   "cell_type": "markdown",
   "metadata": {},
   "source": [
    "### a) Preprocessing the data [1 pt]"
   ]
  },
  {
   "cell_type": "markdown",
   "metadata": {},
   "source": [
    "First of all you should preprocess the data. This is an important step to avoid running into any problems when you start to analyse the data. Since we provide the Seahaven dataset as an excel file make sure to run ```pip install xlrd``` in your activated acc environment beforehand. This allows you to directly read from excel files.\n",
    "\n",
    "- Import the data of all three tasks (Absolute, Relative, Pointing) into one dataframe. Since we don't need the whole data, load only the columns \"ReactionTime\", \"AngularDiffBin\", \"Subject\", \"Task\", \"Time\", \"Answer\" and \"Measurement\".\n",
    "- Clean the dataframe of all NaNs, i.e. remove all rows where at least one element is missing. How many rows have been removed?\n",
    "- Change the values of the column \"Answer\". Replace each value \"wrong\" with 0 and each value \"correct\" with 1."
   ]
  },
  {
   "cell_type": "code",
   "execution_count": 3,
   "metadata": {},
   "outputs": [
    {
     "name": "stdout",
     "output_type": "stream",
     "text": [
      "522\n",
      "Rows have been dropped\n"
     ]
    }
   ],
   "source": [
    "# set path of dataset\n",
    "path = 'Seahaven_dataset.xlsx'\n",
    "\n",
    "# use columns \"ReactionTime\", \"AngularDiffBin\", \"Subject\", \"Task, \"Time\", \"Answer\" and \"Measurement\"\n",
    "seaHeaven = pd.read_excel(path, usecols=\"E, G:J, L, K\")\n",
    "\n",
    "# calculate the number of rows\n",
    "number_of_rows = len(seaHeaven.index)\n",
    "\n",
    "#drop all rows with NaN-values\n",
    "seaHeaven = seaHeaven.dropna()\n",
    "\n",
    "# print number of rows that have been dropped\n",
    "print(number_of_rows-(len(seaHeaven.index)))\n",
    "print(\"Rows have been dropped\")\n",
    "#522 rows have been dropped\n",
    "\n",
    "# set all values of Answer corresponding to 'wrong' to 0, those to 'correct' to 1\n",
    "seaHeaven.loc[seaHeaven['Answer'] == 'wrong', 'Answer'] = 0\n",
    "seaHeaven.loc[seaHeaven['Answer'] == 'correct', 'Answer'] = 1\n"
   ]
  },
  {
   "cell_type": "markdown",
   "metadata": {},
   "source": [
    "### b) Checking the distribution of the data [2 pts]"
   ]
  },
  {
   "cell_type": "markdown",
   "metadata": {},
   "source": [
    "Most of the analysis techniques require normally distributed data. To get an idea on how the data looks like use the **preprocessed data** from 1.a) and plot for each task a violinplot that displays the data distribution of the RTs (note that you also have to distinguish between the two time conditions - 3sec and Infinite).\n",
    "\n",
    "- For each task (Absolute, Relative, Pointing) and time condition (3sec, Infinite) calculate the mean RT per subject.\n",
    "- Make a violinplot for each combination of task and time condition (you should end up with 6 violinplots). Make sure that the data distributions are displayed clearly and that the y-axes are uniformly scaled to make your plots comparable. You may split up the single plots for a better overview.\n",
    "- Hint: Play with the keyword inner.\n",
    "- Using your plots, what can you say about the distribution of the data? It is normally distributed? How is it skewed?"
   ]
  },
  {
   "cell_type": "code",
   "execution_count": 4,
   "metadata": {},
   "outputs": [
    {
     "name": "stdout",
     "output_type": "stream",
     "text": [
      "   ReactionTime  AngularDiffBin  Subject      Task  Time Group  Answer\n",
      "0         1.896             150     1216  Absolute  3sec   Map       0\n",
      "1         1.896              30     1216  Absolute  3sec   Map       1\n",
      "2         1.896              60     1216  Absolute  3sec   Map       0\n",
      "3         1.896             180     1216  Absolute  3sec   Map       0\n",
      "4         1.896             120     1216  Absolute  3sec   Map       1\n"
     ]
    },
    {
     "name": "stderr",
     "output_type": "stream",
     "text": [
      "C:\\Users\\simon\\Miniconda3\\envs\\acc\\lib\\site-packages\\seaborn\\axisgrid.py:715: UserWarning: Using the violinplot function without specifying `order` is likely to produce an incorrect plot.\n",
      "  warnings.warn(warning)\n"
     ]
    },
    {
     "data": {
      "image/png": "[encoded data removed]",
      "text/plain": [
       "<Figure size 648x432 with 6 Axes>"
      ]
     },
     "metadata": {
      "needs_background": "light"
     },
     "output_type": "display_data"
    }
   ],
   "source": [
    "# group by Task and Time and then compute for each group the respective mean of Reaction Time\n",
    "seaHeaven['ReactionTime'] = seaHeaven.groupby([seaHeaven['Task'],seaHeaven['Time']]).transform('mean')\n",
    "\n",
    "print(seaHeaven.head())\n",
    "\n",
    "# create #Task x #Time violinplots for Task and Time conditions\n",
    "grid = sns.FacetGrid(data=seaHeaven, col = 'Task', row = 'Time', col_order = ['Absolute', 'Relative', 'Pointing'])\n",
    "grid = grid.map(sns.violinplot, 'ReactionTime')"
   ]
  },
  {
   "cell_type": "markdown",
   "metadata": {},
   "source": [
    "You may have noticed that there are (extreme) outliers, that have to be removed from the **preprocessed data**.\n",
    "\n",
    "- For each task (Absolute, Relative, Pointing) and time condition (3sec, Infinite) look at the RTs and keep only the ones that are within +2 and -2 standard deviation:\n",
    "\n",
    "$ |(RT_{group1} - mean(RT_{group1}))| \\leq (2*std(RT_{group1})) $\n",
    "\n",
    "$group1$ = e.g. data of absolute task for time condition 3sec\n",
    "\n",
    "- Make again a violinplot for each combination of task and time condition (you should end up with 6 violinplots). Make sure that the data distributions are displayed clearly and that the y-axes are uniformly scaled to make your plots comparable. You may split up the single plots for a better overview.\n",
    "- How does the distribution of the data look now? Is it still skewed?"
   ]
  },
  {
   "cell_type": "code",
   "execution_count": 19,
   "metadata": {},
   "outputs": [
    {
     "name": "stderr",
     "output_type": "stream",
     "text": [
      "C:\\Users\\simon\\Miniconda3\\envs\\acc\\lib\\site-packages\\seaborn\\axisgrid.py:715: UserWarning: Using the violinplot function without specifying `order` is likely to produce an incorrect plot.\n",
      "  warnings.warn(warning)\n"
     ]
    },
    {
     "data": {
      "image/png": "[encoded data removed]",
      "text/plain": [
       "<Figure size 648x432 with 6 Axes>"
      ]
     },
     "metadata": {
      "needs_background": "light"
     },
     "output_type": "display_data"
    }
   ],
   "source": [
    "# load data into Dataframe with respective columns\n",
    "path = 'Seahaven_dataset.xlsx'\n",
    "seaHeaven = pd.read_excel(path, usecols=\"E, G:J, L, K\")\n",
    "\n",
    "# compute mean and std grouping by Task and Time values\n",
    "mean = seaHeaven['ReactionTime'].groupby([seaHeaven['Task'], seaHeaven['Time']]).transform(np.nanmean)\n",
    "std = seaHeaven['ReactionTime'].groupby([seaHeaven.Task, seaHeaven.Time]).transform(np.nanstd)\n",
    "\n",
    "# remove all outliers \n",
    "seaHeaven.loc[np.abs(seaHeaven['ReactionTime'] - mean) > 2*std, 'ReactionTime'] = np.nan\n",
    "\n",
    "# drop rows with NaN values\n",
    "seaHeaven = seaHeaven.dropna()\n",
    "\n",
    "# create #Task x #Time violinplots for Task and Time conditions\n",
    "grid = sns.FacetGrid(data=seaHeaven, col = 'Task', row = 'Time', col_order = ['Absolute', 'Relative', 'Pointing'])\n",
    "grid = grid.map(sns.violinplot, 'ReactionTime')\n",
    "\n",
    "\n",
    "# save averaged dataframe\n",
    "DATAPATH = os.getcwd() + '/seaHeaven_test.csv'\n",
    "seaHeaven.to_csv(DATAPATH, index=False)\n",
    "\n",
    "#print(mean)\n",
    "#print(std)\n",
    "#print(seaHeaven)\n",
    "#print(seaHeaven['Answer'])"
   ]
  },
  {
   "cell_type": "markdown",
   "metadata": {},
   "source": [
    "**Please make sure that you use the preprocessed data without outliers for the following assignments!**"
   ]
  },
  {
   "cell_type": "markdown",
   "metadata": {},
   "source": [
    "## Assignment 2: Checking for possible hypotheses [5 pts]"
   ]
  },
  {
   "cell_type": "markdown",
   "metadata": {},
   "source": [
    "### a) Hypothesis 1 [2 pt]"
   ]
  },
  {
   "cell_type": "markdown",
   "metadata": {},
   "source": [
    "**Hypothesis 1:** \"Given that subjects are limited by time, if they are faster in RT they are also less accurate.\"\n",
    "\n",
    "- Use the data of the relative task.\n",
    "- For each time condition (3sec / Infinite) calculate the mean RT and Accuracy per subject. Rename the column \"Answer\" to \"Accuracy\" (the accuracy corresponds to the averaged answer-values).\n",
    "- Make a scatterplot of the mean RT (x-axis) and the accuracy (y-axis) for the time condition \"3sec\". \n",
    "- Make a second scatterplot and add a simple linear regression line to it. Calculate the slope of the regression line (you are allowed to use scipy). \n",
    "- Considering your results, what can you say about the hypothesis?"
   ]
  },
  {
   "cell_type": "code",
   "execution_count": 23,
   "metadata": {},
   "outputs": [
    {
     "name": "stdout",
     "output_type": "stream",
     "text": [
      "     ReactionTime  AngularDiffBin  Subject      Task      Time Group    Answer\n",
      "0        Absolute             150     1216  Absolute      3sec   Map  Absolute\n",
      "1        Absolute              30     1216  Absolute      3sec   Map  Absolute\n",
      "2        Absolute              60     1216  Absolute      3sec   Map  Absolute\n",
      "3        Absolute             180     1216  Absolute      3sec   Map  Absolute\n",
      "4        Absolute             120     1216  Absolute      3sec   Map  Absolute\n",
      "5        Absolute             180     1216  Absolute      3sec   Map  Absolute\n",
      "6        Absolute             150     1216  Absolute      3sec   Map  Absolute\n",
      "7        Absolute              60     1216  Absolute      3sec   Map  Absolute\n",
      "8        Absolute              90     1216  Absolute      3sec   Map  Absolute\n",
      "9        Absolute              30     1216  Absolute      3sec   Map  Absolute\n",
      "10       Absolute             180     1216  Absolute      3sec   Map  Absolute\n",
      "11       Absolute             120     1216  Absolute      3sec   Map  Absolute\n",
      "12       Absolute              90     1216  Absolute      3sec   Map  Absolute\n",
      "13       Absolute              30     1216  Absolute      3sec   Map  Absolute\n",
      "14       Absolute              60     1216  Absolute      3sec   Map  Absolute\n",
      "...           ...             ...      ...       ...       ...   ...       ...\n",
      "6245          NaN             150     9998  Absolute  Infinite   Map       NaN\n",
      "6246          NaN              90     9998  Absolute  Infinite   Map       NaN\n",
      "6247          NaN              60     9998  Absolute  Infinite   Map       NaN\n",
      "6248          NaN             120     9998  Absolute  Infinite   Map       NaN\n",
      "6249          NaN             180     9998  Absolute  Infinite   Map       NaN\n",
      "6250          NaN              60     9998  Absolute  Infinite   Map       NaN\n",
      "6251          NaN             120     9998  Absolute  Infinite   Map       NaN\n",
      "6252          NaN              60     9998  Absolute  Infinite   Map       NaN\n",
      "6253          NaN              30     9998  Absolute  Infinite   Map       NaN\n",
      "6254          NaN             150     9998  Absolute  Infinite   Map       NaN\n",
      "6255          NaN              30     9998  Absolute  Infinite   Map       NaN\n",
      "6256          NaN              90     9998  Absolute  Infinite   Map       NaN\n",
      "6257          NaN             150     9998  Absolute  Infinite   Map       NaN\n",
      "6258          NaN              90     9998  Absolute  Infinite   Map       NaN\n",
      "6259          NaN             180     9998  Absolute  Infinite   Map       NaN\n",
      "\n",
      "[6260 rows x 7 columns]\n"
     ]
    }
   ],
   "source": [
    "\"\"\"\n",
    " Started working on this task, however my groupby does not give me the result I am looking for.\n",
    " I dont really get why. This dataset seems wrong to me or am i just mistaken?\n",
    " \n",
    "\"\"\"\n",
    "\n",
    "\n",
    "seaHeaven = pd.read_csv(os.getcwd() + \"/seaHeaven_test.csv\")\n",
    "\n",
    "# set all values of Answer corresponding to 'wrong' to 0, those to 'correct' to 1\n",
    "seaHeaven.loc[seaHeaven['Answer'] == 'wrong', 'Answer'] = 0\n",
    "seaHeaven.loc[seaHeaven['Answer'] == 'correct', 'Answer'] = 1\n",
    "\n",
    "#seaHeaven['Answer'] = seaHeaven.groupby(['Task', 'Subject'])['Answer'].mean()#.reset_index()\n",
    "#seaHeaven['ReactionTime'] = seaHeaven.groupby(['Task', 'Subject'])['ReactionTime'].mean().reset_index()\n",
    "seaHeaven['Answer'] = seaHeaven.groupby(['Task', 'Subject'])['Answer'].mean().reset_index()\n",
    "seaHeaven['ReactionTime'] = seaHeaven.groupby(['Task', 'Subject'])['ReactionTime'].mean().reset_index()\n",
    "#print(g)\n",
    "#print(h)\n",
    "\n",
    "#seaHeaven['Answer'] = g['Answer']\n",
    "#seaHeaven['ReactionTime'] = h['ReactionTime']\n",
    "\n",
    "#seaHeaven.dropna()\n",
    "\n",
    "#seaHeaven['Answer'] = seaHeaven.groupby(['Task', 'Subject'])['Answer'].mean().reset_index()\n",
    "\n",
    "#seaHeaven['Answer'] = g['Answer']\n",
    "#seaHeaven['ReactionTime'] = w['ReactionTime']\n",
    "#seaHeaven.rename(columns={'Answer': 'Accuracy'}, inplace=True)\n",
    "print(seaHeaven)"
   ]
  },
  {
   "cell_type": "markdown",
   "metadata": {},
   "source": [
    "### b) Hypothesis 2 [1 pt]"
   ]
  },
  {
   "cell_type": "markdown",
   "metadata": {},
   "source": [
    "**Hypothesis 2:** \"Given that subjects have infinite time, they perform better.\"\n",
    "\n",
    "- Use the data of all three tasks.\n",
    "- For each task (Absolute, Relative, Pointing) and time condition (3sec, Infinite) calculate the accuracy per subject. Rename the column \"Answer\" to \"Accuracy\" (the accuracy corresponds to the averaged answer-values).\n",
    "- Make a pointplot of the tasks (x-axis) and the accuracy (y-axis) for both time conditions (3sec / Infinite). The y-axis should start at 0.0 and end at 1.0.\n",
    "- For better comparison print both conditions in one plot and add a line at accuracy=0.5 to check if the results are above chance.\n",
    "- Hint: Play with the keyword dodge.\n",
    "- Considering your plots, what can you say about the hypothesis?"
   ]
  },
  {
   "cell_type": "code",
   "execution_count": null,
   "metadata": {},
   "outputs": [],
   "source": [
    "# TODO"
   ]
  },
  {
   "cell_type": "markdown",
   "metadata": {},
   "source": [
    "### d) Hypothesis 3 [1 pt]"
   ]
  },
  {
   "cell_type": "markdown",
   "metadata": {},
   "source": [
    "**Hypothesis 3:** \"With each subsequent session subjects get better in performance.\"\n",
    "\n",
    "- Use the data of the relative task.\n",
    "- For each time condition (3sec / Infinite) calculate the mean RT and Accuracy per subject. Rename the column \"Answer\" to \"Accuracy\" (the accuracy corresponds to the averaged answer-values).\n",
    "- Make a pointplot of the measurement (x-axis) and the accuracy (y-axis) for both time conditions (3sec / Infinite). The y-axis should start at 0.0 and end at 1.0.\n",
    "- For better comparison print both conditions in one plot and add a line at accuracy=0.5 to check if the results are above chance.\n",
    "- Hint: Play with the keyword dodge.\n",
    "- Make also a pointplot of the measurement (x-axis) and RT (y-axis) for both time conditions (3sec / Infinite).  Make sure that the data is displayed clearly. You may split up the single plots for a better overview.\n",
    "- Considering your plots, what can you say about the hypothesis?"
   ]
  },
  {
   "cell_type": "code",
   "execution_count": null,
   "metadata": {},
   "outputs": [],
   "source": [
    "# TODO"
   ]
  },
  {
   "cell_type": "markdown",
   "metadata": {},
   "source": [
    "### c) Hypothesis 4 [1 pts]"
   ]
  },
  {
   "cell_type": "markdown",
   "metadata": {},
   "source": [
    "**Hypothesis 4:** \"When the angular difference between houses increases subjects are more accurate in the relative task.\"\n",
    "\n",
    "- Use the data of the relative task.\n",
    "- For each angular difference (see \"AngularDiffBin\") calculate the accuracy per subject. Rename the column \"Answer\" to \"Accuracy\" (the accuracy corresponds to the averaged answer-values).\n",
    "- Make a pointplot of the angular differences (x-axis) and the accuracy (y-axis) for both time conditions (3sec / Infinite). The y-axis should start at 0.0 and end at 1.0.\n",
    "- For better comparison print both conditions in one plot and add a line at accuracy=0.5 to check if the results are above chance. Make sure that the angular differences are displayed in ascending order.\n",
    "- Hint: Play with the keyword dodge.\n",
    "- Considering your plots, what can you say about the hypothesis?"
   ]
  },
  {
   "cell_type": "code",
   "execution_count": null,
   "metadata": {},
   "outputs": [],
   "source": [
    "# TODO"
   ]
  },
  {
   "cell_type": "markdown",
   "metadata": {},
   "source": [
    "## Assignment 3: T-test [2 pts]"
   ]
  },
  {
   "cell_type": "markdown",
   "metadata": {},
   "source": [
    "We will perform a two-sample t-test, i.e. we compare the mean of two groups under the assumption that both are independent and normally distributed with unknown but equal variances. In this case we will look at the data of the relative task and compare the accuracies of the two time conditions (3sec / Infinte). We will ignore that there are different measurement days!\n",
    "\n",
    "- Use the data of the relative task.\n",
    "- For each time condition (3sec / Infinite) calculate the accuracy per subject. Rename the column \"Answer\" to \"Accuracy\" (the accuracy corresponds to the averaged answer-values).\n",
    "- Check if the data is normally distributed using scipy.stats.normaltest.\n",
    "\n",
    "\n",
    "- Compute the t-statistics: $ t = \\frac{\\bar{x}_1 - \\bar{x}_2}{\\sqrt{\\frac{s_1^2}{n_1} + \\frac{s_2^2}{n_2}}} $\n",
    "\n",
    "$\\bar{x}_1$: mean accuracy of all subjects for time condition \"3sec\" <br>\n",
    "$\\bar{x}_2$: mean accuracy of all subjects for time condition \"Infinite\" <br>\n",
    "$n_1$: sample size for time condition \"3sec\" <br>\n",
    "$n_2$: sample size for time condition \"Infinite\"\n",
    "\n",
    "\n",
    "- with $ s^2 = \\frac{\\sum_{i=1}^n{(x_i - \\bar{x})^2}}{n-1} $\n",
    "\n",
    "$x_i$: accuracy of subject i <br>\n",
    "$\\bar{x}$: mean accuracy of all subjects <br>\n",
    "$n$: sample size\n",
    "\n",
    "\n",
    "- Calculate the degrees of freedom: $ df = n_1 + n_2 -2 $\n",
    "- What does the p-value of a t-test tell you in general? Also explain what your calculated p-value tells you specifically (given $\\alpha = 0.05$)?"
   ]
  },
  {
   "cell_type": "code",
   "execution_count": null,
   "metadata": {},
   "outputs": [],
   "source": [
    "# TODO\n",
    "\n",
    "# gives you the p-value after comparing the t-statistic with the critical t value (computed internally) \n",
    "p = 1 - stats.t.cdf(t,df=df)\n",
    "\n",
    "print(\"t = \" + str(t))\n",
    "print(\"p = \" + str(2*p))\n",
    "\n",
    "# test if your calculation is correct\n",
    "t2, p2 = stats.ttest_ind(x1,x2)\n",
    "print(\"t = \" + str(t2))\n",
    "print(\"p = \" + str(p2))"
   ]
  }
 ],
 "metadata": {
  "kernelspec": {
   "display_name": "Python 3",
   "language": "python",
   "name": "python3"
  },
  "language_info": {
   "codemirror_mode": {
    "name": "ipython",
    "version": 3
   },
   "file_extension": ".py",
   "mimetype": "text/x-python",
   "name": "python",
   "nbconvert_exporter": "python",
   "pygments_lexer": "ipython3",
   "version": "3.6.7"
  }
 },
 "nbformat": 4,
 "nbformat_minor": 2
}
