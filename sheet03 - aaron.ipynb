{
 "cells": [
  {
   "cell_type": "markdown",
   "metadata": {},
   "source": [
    "Osnabrück University - A&C: Computational Cognition (Summer Term 2019)"
   ]
  },
  {
   "cell_type": "markdown",
   "metadata": {},
   "source": [
    "# Exercise Sheet 03: Analysis of behavioural data"
   ]
  },
  {
   "cell_type": "markdown",
   "metadata": {},
   "source": [
    "## Introduction\n",
    "\n",
    "This week's sheet should be solved and handed in at 14:00 at **Tuesday, May 7, 2019**. If you need help (and Google and other resources were not enough), feel free to contact your tutors. Please push your results to your Github group folder.\n",
    "\n",
    "In this exercise sheet we will start to work on a real dataset from an ongoing experiment. In this experiment the participants were asked to freely explore an unknown virtual city, called Seahaven, with an interactive map. After a sufficiently long exploration the participants were tested on three different tasks: \n",
    "\n",
    "- the **absolute orientation** of a single house towards the north cardinal direction\n",
    "- the **relative orientation** between two houses \n",
    "- **pointing** from the location of one house to the other\n",
    "\n",
    "Each task type was performed in two time conditions:\n",
    "\n",
    "- **3 seconds** for spontaneous decisions\n",
    "- **infinite** response time for cognitive reasoning\n",
    "\n",
    "These measurements were repeated up to three times on different days.\n",
    "\n",
    "We will provide you with more detailed information about this experiment in the tutorial. If you are interested in more than this feel free to have a look at the paper https://www.biorxiv.org/content/10.1101/539080v1.\n",
    "\n",
    "A small side remark to the dataset: The RTs for the absolute task are exactly the same for both time conditions. This is an error that cannot be corrected on a short notice. Please keep that in mind, when you evaluate your plots."
   ]
  },
  {
   "cell_type": "markdown",
   "metadata": {},
   "source": [
    "## Assignment 0: Peer review for sheet 02 [3 pts]"
   ]
  },
  {
   "cell_type": "markdown",
   "metadata": {},
   "source": [
    "Open an issue in the repository of the groups you have to check. The title of the issue should be your group name (e.g. \"Group1). Comment on what was good and what was bad, the aesthetics and ease of reading the plots, what you would have done differently and how many points you would give them for their solutions.\n",
    "\n",
    "| * |Group 1|Group 2|Group 3|Group 4|Group 5|Group 6|Group 7|Group 8|Group 9|Group 10|Group 11|\n",
    "| ------- | ----- | ----- | ----- | ----- | ----- | ----- | ----- | ----- | ----- | ------ | ------ |\n",
    "| check solutions of group: | 11, 9 | 5, 1  | 8, 2  | 2, 7 | 10, 6 | 7, 11 | 6, 5  | 4, 3  | 3, 8  | 1, 4   | 9, 10  |"
   ]
  },
  {
   "cell_type": "markdown",
   "metadata": {},
   "source": [
    "## Assignment 1: Preprocessing [3 pts]"
   ]
  },
  {
   "cell_type": "code",
   "execution_count": 34,
   "metadata": {},
   "outputs": [],
   "source": [
    "import os\n",
    "import numpy as np\n",
    "import pandas as pd\n",
    "import matplotlib.pyplot as plt\n",
    "import seaborn as sns\n",
    "sns.set()\n",
    "from scipy import stats\n",
    "import xlrd"
   ]
  },
  {
   "cell_type": "markdown",
   "metadata": {},
   "source": [
    "### a) Preprocessing the data [1 pt]"
   ]
  },
  {
   "cell_type": "markdown",
   "metadata": {},
   "source": [
    "First of all you should preprocess the data. This is an important step to avoid running into any problems when you start to analyse the data. Since we provide the Seahaven dataset as an excel file make sure to run ```pip install xlrd``` in your activated acc environment beforehand. This allows you to directly read from excel files.\n",
    "\n",
    "- Import the data of all three tasks (Absolute, Relative, Pointing) into one dataframe. Since we don't need the whole data, load only the columns \"ReactionTime\", \"AngularDiffBin\", \"Subject\", \"Task\", \"Time\", \"Answer\" and \"Measurement\".\n",
    "- Clean the dataframe of all NaNs, i.e. remove all rows where at least one element is missing. How many rows have been removed?\n",
    "- Change the values of the column \"Answer\". Replace each value \"wrong\" with 0 and each value \"correct\" with 1."
   ]
  },
  {
   "cell_type": "code",
   "execution_count": 103,
   "metadata": {},
   "outputs": [
    {
     "name": "stdout",
     "output_type": "stream",
     "text": [
      "522 rows were removed because of /NaN/ values. There are still 6462 rows left.\n",
      "\n",
      "   ReactionTime  AngularDiffBin  Subject      Task  Time  Answer  Measurement\n",
      "0      1.664824             150     1216  Absolute  3sec       0            1\n",
      "1      0.865788              30     1216  Absolute  3sec       1            1\n",
      "2      1.284187              60     1216  Absolute  3sec       0            1\n",
      "3      2.081390             180     1216  Absolute  3sec       0            1\n",
      "4      1.424746             120     1216  Absolute  3sec       1            1\n"
     ]
    }
   ],
   "source": [
    "df = pd.read_excel(os.getcwd() +\"/Seahaven_dataset.xlsx\") \n",
    "df = df[['ReactionTime','AngularDiffBin','Subject','Task','Time','Answer','Measurement']]\n",
    "len_before = len(df)\n",
    "df = df.dropna()\n",
    "len_after = len(df)\n",
    "print((len_before-len_after),\"rows were removed because of /NaN/ values. There are still\", len_after,\"rows left.\")\n",
    "print()\n",
    "df = df.replace('wrong', 0)\n",
    "df = df.replace('correct', 1)\n",
    "print(df.head())"
   ]
  },
  {
   "cell_type": "markdown",
   "metadata": {},
   "source": [
    "### b) Checking the distribution of the data [2 pts]"
   ]
  },
  {
   "cell_type": "markdown",
   "metadata": {},
   "source": [
    "Most of the analysis techniques require normally distributed data. To get an idea on how the data looks like use the **preprocessed data** from 1.a) and plot for each task a violinplot that displays the data distribution of the RTs (note that you also have to distinguish between the two time conditions - 3sec and Infinite).\n",
    "\n",
    "- For each task (Absolute, Relative, Pointing) and time condition (3sec, Infinite) calculate the mean RT per subject.\n",
    "- Make a violinplot for each combination of task and time condition (you should end up with 6 violinplots). Make sure that the data distributions are displayed clearly and that the y-axes are uniformly scaled to make your plots comparable. You may split up the single plots for a better overview.\n",
    "- Hint: Play with the keyword inner.\n",
    "- Using your plots, what can you say about the distribution of the data? It is normally distributed? How is it skewed?"
   ]
  },
  {
   "cell_type": "code",
   "execution_count": 104,
   "metadata": {},
   "outputs": [
    {
     "name": "stdout",
     "output_type": "stream",
     "text": [
      "The data looks pretty normally distributed to me. Only the data is a bit unsymmetric. Also this would make 6 diagrams, if there were 3 conditions and not only /Absolute/ .\n",
      "\n",
      "   ReactionTime  AngularDiffBin  Subject      Task  Time  Answer  Measurement  \\\n",
      "0      1.664824             150     1216  Absolute  3sec       0            1   \n",
      "1      0.865788              30     1216  Absolute  3sec       1            1   \n",
      "2      1.284187              60     1216  Absolute  3sec       0            1   \n",
      "3      2.081390             180     1216  Absolute  3sec       0            1   \n",
      "4      1.424746             120     1216  Absolute  3sec       1            1   \n",
      "\n",
      "   MeanRTSubjectGroup  \n",
      "0             1.34137  \n",
      "1             1.34137  \n",
      "2             1.34137  \n",
      "3             1.34137  \n",
      "4             1.34137  \n"
     ]
    },
    {
     "data": {
      "image/png": "[encoded data removed]",
      "text/plain": [
       "<Figure size 432x288 with 1 Axes>"
      ]
     },
     "metadata": {},
     "output_type": "display_data"
    }
   ],
   "source": [
    "# TODO\n",
    "violin1, ax1 = plt.subplots()\n",
    "sns.violinplot(y=\"ReactionTime\",x='Time',data=df,hue='Task', axis=1)\n",
    "print(\"The data looks pretty normally distributed to me. Only the data is a bit unsymmetric. Also this would make 6 diagrams, if there were 3 conditions and not only /Absolute/ .\")\n",
    "print()\n",
    "df['MeanRTSubjectGroup'] = None\n",
    "df['MeanRTSubjectGroup'] = df.groupby([df['Task'],df['Time'],df['Subject']]).transform('mean')\n",
    "print(df.head())"
   ]
  },
  {
   "cell_type": "markdown",
   "metadata": {},
   "source": [
    "You may have noticed that there are (extreme) outliers, that have to be removed from the **preprocessed data**.\n",
    "\n",
    "- For each task (Absolute, Relative, Pointing) and time condition (3sec, Infinite) look at the RTs and keep only the ones that are within +2 and -2 standard deviation:\n",
    "\n",
    "$ |(RT_{suject} - mean(RT_{group1}))| \\leq (2*std(RT_{group1})) $\n",
    "\n",
    "$group1$ = e.g. data of absolute task for time condition 3sec\n",
    "\n",
    "- Make again a violinplot for each combination of task and time condition (you should end up with 6 violinplots). Make sure that the data distributions are displayed clearly and that the y-axes are uniformly scaled to make your plots comparable. You may split up the single plots for a better overview.\n",
    "- How does the distribution of the data look now? Is it still skewed?"
   ]
  },
  {
   "cell_type": "code",
   "execution_count": 106,
   "metadata": {},
   "outputs": [
    {
     "name": "stdout",
     "output_type": "stream",
     "text": [
      "66 outliers were iteratively removed because of too large distance from standard deviation.\n",
      "\n",
      "The distribution of the data looks the same to me.\n",
      "<bound method NDFrame.head of       ReactionTime  AngularDiffBin  Subject      Task      Time  Answer  \\\n",
      "0         1.664824           150.0   1216.0  Absolute      3sec     0.0   \n",
      "1         0.865788            30.0   1216.0  Absolute      3sec     1.0   \n",
      "2         1.284187            60.0   1216.0  Absolute      3sec     0.0   \n",
      "3         2.081390           180.0   1216.0  Absolute      3sec     0.0   \n",
      "4         1.424746           120.0   1216.0  Absolute      3sec     1.0   \n",
      "5         1.498336           180.0   1216.0  Absolute      3sec     1.0   \n",
      "6         1.213375           150.0   1216.0  Absolute      3sec     0.0   \n",
      "7         1.248617            60.0   1216.0  Absolute      3sec     1.0   \n",
      "8         0.788024           120.0   1216.0  Absolute      3sec     1.0   \n",
      "9         1.573254            90.0   1216.0  Absolute      3sec     1.0   \n",
      "10        1.082854            30.0   1216.0  Absolute      3sec     1.0   \n",
      "11        0.789523            90.0   1216.0  Absolute      3sec     0.0   \n",
      "12        1.280437           180.0   1216.0  Absolute      3sec     1.0   \n",
      "14        1.619883           120.0   1216.0  Absolute      3sec     1.0   \n",
      "15        1.538603            90.0   1216.0  Absolute      3sec     0.0   \n",
      "16        1.172319            30.0   1216.0  Absolute      3sec     0.0   \n",
      "17        1.061048            60.0   1216.0  Absolute      3sec     0.0   \n",
      "18        1.038815           150.0   1216.0  Absolute      3sec     0.0   \n",
      "19        0.776938           150.0   1216.0  Absolute      3sec     0.0   \n",
      "20        1.390353            30.0   1216.0  Absolute      3sec     0.0   \n",
      "21        1.163383            90.0   1216.0  Absolute      3sec     1.0   \n",
      "22        1.612106            60.0   1216.0  Absolute      3sec     1.0   \n",
      "23        0.744600           120.0   1216.0  Absolute      3sec     1.0   \n",
      "24        1.703496           180.0   1216.0  Absolute      3sec     0.0   \n",
      "25        0.946901            60.0   1216.0  Absolute      3sec     0.0   \n",
      "26        1.722846           120.0   1216.0  Absolute      3sec     0.0   \n",
      "27        1.293323            60.0   1216.0  Absolute      3sec     1.0   \n",
      "28        2.491719            30.0   1216.0  Absolute      3sec     1.0   \n",
      "29        2.048014           150.0   1216.0  Absolute      3sec     0.0   \n",
      "30        0.926194            30.0   1216.0  Absolute      3sec     1.0   \n",
      "...            ...             ...      ...       ...       ...     ...   \n",
      "6951      2.004959           180.0   9998.0  Absolute  Infinite     0.0   \n",
      "6952      2.154227           120.0   9998.0  Absolute  Infinite     1.0   \n",
      "6953      2.163529           180.0   9998.0  Absolute  Infinite     1.0   \n",
      "6954      1.893542           150.0   9998.0  Absolute  Infinite     0.0   \n",
      "6955      1.755630            60.0   9998.0  Absolute  Infinite     1.0   \n",
      "6956      1.803825           120.0   9998.0  Absolute  Infinite     0.0   \n",
      "6957      2.165277            90.0   9998.0  Absolute  Infinite     0.0   \n",
      "6958      2.148523            30.0   9998.0  Absolute  Infinite     0.0   \n",
      "6959      2.210604            90.0   9998.0  Absolute  Infinite     1.0   \n",
      "6960      2.269923           180.0   9998.0  Absolute  Infinite     0.0   \n",
      "6961      1.619008           180.0   9998.0  Absolute  Infinite     1.0   \n",
      "6962      2.142369           120.0   9998.0  Absolute  Infinite     1.0   \n",
      "6963      1.821293            90.0   9998.0  Absolute  Infinite     1.0   \n",
      "6964      1.419734            30.0   9998.0  Absolute  Infinite     0.0   \n",
      "6966      1.860465           150.0   9998.0  Absolute  Infinite     0.0   \n",
      "6967      2.653769           150.0   9998.0  Absolute  Infinite     0.0   \n",
      "6969      1.885985            90.0   9998.0  Absolute  Infinite     1.0   \n",
      "6970      1.804342            60.0   9998.0  Absolute  Infinite     1.0   \n",
      "6971      2.221201           120.0   9998.0  Absolute  Infinite     1.0   \n",
      "6972      1.800808           180.0   9998.0  Absolute  Infinite     1.0   \n",
      "6973      1.635442            60.0   9998.0  Absolute  Infinite     1.0   \n",
      "6974      2.020689           120.0   9998.0  Absolute  Infinite     1.0   \n",
      "6975      2.383125            60.0   9998.0  Absolute  Infinite     1.0   \n",
      "6976      2.570616            30.0   9998.0  Absolute  Infinite     1.0   \n",
      "6977      2.252390           150.0   9998.0  Absolute  Infinite     1.0   \n",
      "6978      2.494106            30.0   9998.0  Absolute  Infinite     1.0   \n",
      "6979      2.391940            90.0   9998.0  Absolute  Infinite     1.0   \n",
      "6980      2.017770           150.0   9998.0  Absolute  Infinite     0.0   \n",
      "6981      2.245750            90.0   9998.0  Absolute  Infinite     0.0   \n",
      "6982      2.095416           180.0   9998.0  Absolute  Infinite     0.0   \n",
      "\n",
      "      Measurement  MeanRTSubjectGroup  MeanRTGroup       STD  \n",
      "0             1.0            1.341370     1.885403  0.528616  \n",
      "1             1.0            1.341370     1.885403  0.528616  \n",
      "2             1.0            1.341370     1.885403  0.528616  \n",
      "3             1.0            1.341370     1.885403  0.528616  \n",
      "4             1.0            1.341370     1.885403  0.528616  \n",
      "5             1.0            1.341370     1.885403  0.528616  \n",
      "6             1.0            1.341370     1.885403  0.528616  \n",
      "7             1.0            1.341370     1.885403  0.528616  \n",
      "8             1.0            1.341370     1.885403  0.528616  \n",
      "9             1.0            1.341370     1.885403  0.528616  \n",
      "10            1.0            1.341370     1.885403  0.528616  \n",
      "11            1.0            1.341370     1.885403  0.528616  \n",
      "12            1.0            1.341370     1.885403  0.528616  \n",
      "14            1.0            1.341370     1.885403  0.528616  \n",
      "15            1.0            1.341370     1.885403  0.528616  \n",
      "16            1.0            1.341370     1.885403  0.528616  \n",
      "17            1.0            1.341370     1.885403  0.528616  \n",
      "18            1.0            1.341370     1.885403  0.528616  \n",
      "19            1.0            1.341370     1.885403  0.528616  \n",
      "20            1.0            1.341370     1.885403  0.528616  \n",
      "21            1.0            1.341370     1.885403  0.528616  \n",
      "22            1.0            1.341370     1.885403  0.528616  \n",
      "23            1.0            1.341370     1.885403  0.528616  \n",
      "24            1.0            1.341370     1.885403  0.528616  \n",
      "25            1.0            1.341370     1.885403  0.528616  \n",
      "26            1.0            1.341370     1.885403  0.528616  \n",
      "27            1.0            1.341370     1.885403  0.528616  \n",
      "28            1.0            1.341370     1.885403  0.528616  \n",
      "29            1.0            1.341370     1.885403  0.528616  \n",
      "30            1.0            1.341370     1.885403  0.528616  \n",
      "...           ...                 ...          ...       ...  \n",
      "6951          1.0            2.075091     1.885403  0.528616  \n",
      "6952          1.0            2.075091     1.885403  0.528616  \n",
      "6953          1.0            2.075091     1.885403  0.528616  \n",
      "6954          1.0            2.075091     1.885403  0.528616  \n",
      "6955          1.0            2.075091     1.885403  0.528616  \n",
      "6956          1.0            2.075091     1.885403  0.528616  \n",
      "6957          1.0            2.075091     1.885403  0.528616  \n",
      "6958          1.0            2.075091     1.885403  0.528616  \n",
      "6959          1.0            2.075091     1.885403  0.528616  \n",
      "6960          1.0            2.075091     1.885403  0.528616  \n",
      "6961          1.0            2.075091     1.885403  0.528616  \n",
      "6962          1.0            2.075091     1.885403  0.528616  \n",
      "6963          1.0            2.075091     1.885403  0.528616  \n",
      "6964          1.0            2.075091     1.885403  0.528616  \n",
      "6966          1.0            2.075091     1.885403  0.528616  \n",
      "6967          1.0            2.075091     1.885403  0.528616  \n",
      "6969          1.0            2.075091     1.885403  0.528616  \n",
      "6970          1.0            2.075091     1.885403  0.528616  \n",
      "6971          1.0            2.075091     1.885403  0.528616  \n",
      "6972          1.0            2.075091     1.885403  0.528616  \n",
      "6973          1.0            2.075091     1.885403  0.528616  \n",
      "6974          1.0            2.075091     1.885403  0.528616  \n",
      "6975          1.0            2.075091     1.885403  0.528616  \n",
      "6976          1.0            2.075091     1.885403  0.528616  \n",
      "6977          1.0            2.075091     1.885403  0.528616  \n",
      "6978          1.0            2.075091     1.885403  0.528616  \n",
      "6979          1.0            2.075091     1.885403  0.528616  \n",
      "6980          1.0            2.075091     1.885403  0.528616  \n",
      "6981          1.0            2.075091     1.885403  0.528616  \n",
      "6982          1.0            2.075091     1.885403  0.528616  \n",
      "\n",
      "[6396 rows x 10 columns]>\n"
     ]
    },
    {
     "data": {
      "image/png": "[encoded data removed]",
      "text/plain": [
       "<Figure size 432x288 with 1 Axes>"
      ]
     },
     "metadata": {},
     "output_type": "display_data"
    }
   ],
   "source": [
    "# TODO\n",
    "condition = True\n",
    "while(condition == True):\n",
    "    len_while = len(df)\n",
    "    df['MeanRTGroup'] = None\n",
    "    df['MeanRTGroup'] = df['ReactionTime'].groupby([df['Time'],df['Task']]).transform('mean')\n",
    "\n",
    "    df['STD'] = None\n",
    "    df['STD'] = df.groupby([df['Task'], df['Time']]).transform('std')\n",
    "\n",
    "    df.loc[df['ReactionTime'] - df['MeanRTGroup'] > df['STD']*2] = np.nan\n",
    "    df = df.dropna()\n",
    "    if(len(df) == len_while):\n",
    "       condition = False\n",
    "    \n",
    "print(len_after-len(df), \"outliers were iteratively removed because of too large distance from standard deviation.\")\n",
    "                  \n",
    "violin2, ax2 = plt.subplots()\n",
    "sns.violinplot(y=\"ReactionTime\",x='Time',data=df,hue='Task', axis=1)\n",
    "print()\n",
    "print(\"The distribution of the data looks the same to me.\")\n",
    "\n",
    "\n",
    "\n",
    "#df.drop([df['ReactionTime'] - df['MeanRTGroup'] > df['STD']*2])\n",
    "#df = df - df[df.ReactionTime > df.MeanRTGroup + df.STD*2]\n",
    "#df = df - df.loc[df['ReactionTime'] - df['MeanRTGroup'] > df['STD']*2]\n",
    "# Drop a row by condition\n",
    "#df[df.Name != 'Alisa']\n",
    "\n",
    "#df[df['MeanRT'] < & (df['nationality'] == \"USA\")]\n",
    "#df['ReactionTime] = df.groupby([df['Task'],df['Time']]).transform('mean')\n",
    "#df3sec = df[df['Time'] == '3sec']\n",
    "#dfinf = df[df['Time'] == 'Infinite']\n",
    "#print(df.head())\n",
    "\n",
    "#df3sec['MeanRT'] = df3sec.groupby(['Measurement'])['ReactionTime'].mean()\n",
    "#print(dfinf)\n",
    "\"\"\"\n",
    "df_prepro = pd.DataFrame(df, columns = ['Subject', 'Measurement','Time'])\n",
    "meanRT_psub_pcon_ptime = pd.DataFrame()\n",
    "meanRT_psub_pcon_ptime['MeanRT'] = df.groupby(['Subject','Measurement','Time'])['ReactionTime'].mean()\n",
    "print(meanRT_psub_pcon_ptime)\n",
    "\n",
    "meanRT_pcon_ptime = pd.DataFrame()\n",
    "meanRT_pcon_ptime['Measurement','Time'] = df.groupby(['Measurement','Time'])['ReactionTime'].mean()\n",
    "print(meanRT_pcon_ptime)\n",
    "\n",
    "meanRT_pcon_ptime.iloc[5]\n",
    "\n",
    "meanRT_psub_pcon_ptime[meanRT_psub_pcon_ptime.MeanRT != '2']\n",
    "print(meanRT_psub_pcon_ptime)\n",
    "\"\"\"\n",
    "print(df.head)\n"
   ]
  },
  {
   "cell_type": "markdown",
   "metadata": {},
   "source": [
    "**Please make sure that you use the preprocessed data without outliers for the following assignments!**"
   ]
  },
  {
   "cell_type": "markdown",
   "metadata": {},
   "source": [
    "## Assignment 2: Checking for possible hypotheses [5 pts]"
   ]
  },
  {
   "cell_type": "markdown",
   "metadata": {},
   "source": [
    "### a) Hypothesis 1 [2 pt]"
   ]
  },
  {
   "cell_type": "markdown",
   "metadata": {},
   "source": [
    "**Hypothesis 1:** \"Given that subjects are limited by time, if they are faster in RT they are also less accurate.\"\n",
    "\n",
    "- Use the data of the relative task.\n",
    "- For each time condition (3sec / Infinite) calculate the mean RT and Accuracy per subject. Rename the column \"Answer\" to \"Accuracy\" (the accuracy corresponds to the averaged answer-values).\n",
    "- Make a scatterplot of the mean RT (x-axis) and the accuracy (y-axis) for the time condition \"3sec\". \n",
    "- Make a second scatterplot and add a simple linear regression line to it. Calculate the slope of the regression line (you are allowed to use scipy). \n",
    "- Considering your results, what can you say about the hypothesis?"
   ]
  },
  {
   "cell_type": "code",
   "execution_count": 68,
   "metadata": {},
   "outputs": [
    {
     "name": "stdout",
     "output_type": "stream",
     "text": [
      "It looks like the linear regression is not a good model in this case. The slope is 0.0027916932495862376 .\n"
     ]
    },
    {
     "data": {
      "image/png": "[encoded data removed]",
      "text/plain": [
       "<Figure size 432x288 with 1 Axes>"
      ]
     },
     "metadata": {},
     "output_type": "display_data"
    }
   ],
   "source": [
    "# TODO\n",
    "#Only absolute data was given! Therefore I worked with absolute data here as well.\n",
    "df['Answer'] = df['Answer'].groupby([df['Subject'], df['Time']]).transform('mean')\n",
    "df = df.rename(index=str, columns={\"Answer\": \"Accuracy\"})\n",
    "df3sec = df[df['Time'] == '3sec']\n",
    "ax = sns.scatterplot(x=\"MeanRTSubjectGroup\", y=\"Accuracy\", data=df3sec)\n",
    "sns.regplot(x=\"MeanRTSubjectGroup\", y=\"Accuracy\", data=df3sec)\n",
    "slope, intercept, r_value, p_value, std_err = stats.linregress(df3sec['MeanRTSubjectGroup'],df3sec['Accuracy'])\n",
    "print(\"It looks like the linear regression is not a good model in this case. The slope is\", slope)"
   ]
  },
  {
   "cell_type": "markdown",
   "metadata": {},
   "source": [
    "### b) Hypothesis 2 [1 pt]"
   ]
  },
  {
   "cell_type": "markdown",
   "metadata": {},
   "source": [
    "**Hypothesis 2:** \"Given that subjects have infinite time, they perform better.\"\n",
    "\n",
    "- Use the data of all three tasks.\n",
    "- For each task (Absolute, Relative, Pointing) and time condition (3sec, Infinite) calculate the accuracy per subject. Rename the column \"Answer\" to \"Accuracy\" (the accuracy corresponds to the averaged answer-values).\n",
    "- Make a pointplot of the tasks (x-axis) and the accuracy (y-axis) for both time conditions (3sec / Infinite). The y-axis should start at 0.0 and end at 1.0.\n",
    "- For better comparison print both conditions in one plot and add a line at accuracy=0.5 to check if the results are above chance.\n",
    "- Hint: Play with the keyword dodge.\n",
    "- Considering your plots, what can you say about the hypothesis?"
   ]
  },
  {
   "cell_type": "code",
   "execution_count": 97,
   "metadata": {},
   "outputs": [
    {
     "data": {
      "text/plain": [
       "<matplotlib.lines.Line2D at 0x7fc40e5c87b8>"
      ]
     },
     "execution_count": 97,
     "metadata": {},
     "output_type": "execute_result"
    },
    {
     "data": {
      "image/png": "[encoded data removed]",
      "text/plain": [
       "<Figure size 432x288 with 1 Axes>"
      ]
     },
     "metadata": {},
     "output_type": "display_data"
    }
   ],
   "source": [
    "# TODO\n",
    "dfinf = df[df['Time'] == 'Infinite']\n",
    "plt.subplots()\n",
    "ax = sns.scatterplot(x=\"Task\", y=\"Accuracy\", hue='Time', data=df)\n",
    "ax.set(ylim=(0, 1))\n",
    "ax.axhline(0.5)"
   ]
  },
  {
   "cell_type": "markdown",
   "metadata": {},
   "source": [
    "### d) Hypothesis 3 [1 pt]"
   ]
  },
  {
   "cell_type": "markdown",
   "metadata": {},
   "source": [
    "**Hypothesis 3:** \"With each subsequent session subjects get better in performance.\"\n",
    "\n",
    "- Use the data of the relative task.\n",
    "- For each time condition (3sec / Infinite) calculate the mean RT and Accuracy per subject. Rename the column \"Answer\" to \"Accuracy\" (the accuracy corresponds to the averaged answer-values).\n",
    "- Make a pointplot of the measurement (x-axis) and the accuracy (y-axis) for both time conditions (3sec / Infinite). The y-axis should start at 0.0 and end at 1.0.\n",
    "- For better comparison print both conditions in one plot and add a line at accuracy=0.5 to check if the results are above chance.\n",
    "- Hint: Play with the keyword dodge.\n",
    "- Make also a pointplot of the measurement (x-axis) and RT (y-axis) for both time conditions (3sec / Infinite).  Make sure that the data is displayed clearly. You may split up the single plots for a better overview.\n",
    "- Considering your plots, what can you say about the hypothesis?"
   ]
  },
  {
   "cell_type": "code",
   "execution_count": 64,
   "metadata": {},
   "outputs": [],
   "source": [
    "# TODO"
   ]
  },
  {
   "cell_type": "markdown",
   "metadata": {},
   "source": [
    "### c) Hypothesis 4 [1 pts]"
   ]
  },
  {
   "cell_type": "markdown",
   "metadata": {},
   "source": [
    "**Hypothesis 4:** \"When the angular difference between houses increases subjects are more accurate in the relative task.\"\n",
    "\n",
    "- Use the data of the relative task.\n",
    "- For each angular difference (see \"AngularDiffBin\") calculate the accuracy per subject. Rename the column \"Answer\" to \"Accuracy\" (the accuracy corresponds to the averaged answer-values).\n",
    "- Make a pointplot of the angular differences (x-axis) and the accuracy (y-axis) for both time conditions (3sec / Infinite). The y-axis should start at 0.0 and end at 1.0.\n",
    "- For better comparison print both conditions in one plot and add a line at accuracy=0.5 to check if the results are above chance. Make sure that the angular differences are displayed in ascending order.\n",
    "- Hint: Play with the keyword dodge.\n",
    "- Considering your plots, what can you say about the hypothesis?"
   ]
  },
  {
   "cell_type": "code",
   "execution_count": null,
   "metadata": {},
   "outputs": [],
   "source": [
    "# TODO"
   ]
  },
  {
   "cell_type": "markdown",
   "metadata": {},
   "source": [
    "## Assignment 3: T-test [2 pts]"
   ]
  },
  {
   "cell_type": "markdown",
   "metadata": {},
   "source": [
    "We will perform a two-sample t-test, i.e. we compare the mean of two groups under the assumption that both are independent and normally distributed with unknown but equal variances. In this case we will look at the data of the relative task and compare the accuracies of the two time conditions (3sec / Infinte). We will ignore that there are different measurement days!\n",
    "\n",
    "- Use the data of the relative task.\n",
    "- For each time condition (3sec / Infinite) calculate the accuracy per subject. Rename the column \"Answer\" to \"Accuracy\" (the accuracy corresponds to the averaged answer-values).\n",
    "- Check if the data is normally distributed using scipy.stats.normaltest.\n",
    "\n",
    "\n",
    "- Compute the t-statistics: $ t = \\frac{\\bar{x}_1 - \\bar{x}_2}{\\sqrt{\\frac{s_1^2}{n_1} + \\frac{s_2^2}{n_2}}} $\n",
    "\n",
    "$\\bar{x}_1$: mean accuracy of all subjects for time condition \"3sec\" <br>\n",
    "$\\bar{x}_2$: mean accuracy of all subjects for time condition \"Infinite\" <br>\n",
    "$n_1$: sample size for time condition \"3sec\" <br>\n",
    "$n_2$: sample size for time condition \"Infinite\"\n",
    "\n",
    "\n",
    "- with $ s^2 = \\frac{\\sum_{i=1}^n{(x_i - \\bar{x})^2}}{n-1} $\n",
    "\n",
    "$x_i$: accuracy of subject i <br>\n",
    "$\\bar{x}$: mean accuracy of all subjects <br>\n",
    "$n$: sample size\n",
    "\n",
    "\n",
    "- Calculate the degrees of freedom: $ df = n_1 + n_2 -2 $\n",
    "- What does the p-value of a t-test tell you in general? Also explain what your calculated p-value tells you specifically (given $\\alpha = 0.05$)?"
   ]
  },
  {
   "cell_type": "code",
   "execution_count": 98,
   "metadata": {},
   "outputs": [
    {
     "ename": "NameError",
     "evalue": "name 't' is not defined",
     "output_type": "error",
     "traceback": [
      "\u001b[0;31m---------------------------------------------------------------------------\u001b[0m",
      "\u001b[0;31mNameError\u001b[0m                                 Traceback (most recent call last)",
      "\u001b[0;32m<ipython-input-98-79687e432743>\u001b[0m in \u001b[0;36m<module>\u001b[0;34m\u001b[0m\n\u001b[1;32m      2\u001b[0m \u001b[0;34m\u001b[0m\u001b[0m\n\u001b[1;32m      3\u001b[0m \u001b[0;31m# gives you the p-value after comparing the t-statistic with the critical t value (computed internally)\u001b[0m\u001b[0;34m\u001b[0m\u001b[0;34m\u001b[0m\u001b[0;34m\u001b[0m\u001b[0m\n\u001b[0;32m----> 4\u001b[0;31m \u001b[0mp\u001b[0m \u001b[0;34m=\u001b[0m \u001b[0;36m1\u001b[0m \u001b[0;34m-\u001b[0m \u001b[0mstats\u001b[0m\u001b[0;34m.\u001b[0m\u001b[0mt\u001b[0m\u001b[0;34m.\u001b[0m\u001b[0mcdf\u001b[0m\u001b[0;34m(\u001b[0m\u001b[0mt\u001b[0m\u001b[0;34m,\u001b[0m\u001b[0mdf\u001b[0m\u001b[0;34m=\u001b[0m\u001b[0mdf\u001b[0m\u001b[0;34m)\u001b[0m\u001b[0;34m\u001b[0m\u001b[0;34m\u001b[0m\u001b[0m\n\u001b[0m\u001b[1;32m      5\u001b[0m \u001b[0;34m\u001b[0m\u001b[0m\n\u001b[1;32m      6\u001b[0m \u001b[0mprint\u001b[0m\u001b[0;34m(\u001b[0m\u001b[0;34m\"t = \"\u001b[0m \u001b[0;34m+\u001b[0m \u001b[0mstr\u001b[0m\u001b[0;34m(\u001b[0m\u001b[0mt\u001b[0m\u001b[0;34m)\u001b[0m\u001b[0;34m)\u001b[0m\u001b[0;34m\u001b[0m\u001b[0;34m\u001b[0m\u001b[0m\n",
      "\u001b[0;31mNameError\u001b[0m: name 't' is not defined"
     ]
    }
   ],
   "source": [
    "# TODO\n",
    "\n",
    "# gives you the p-value after comparing the t-statistic with the critical t value (computed internally) \n",
    "p = 1 - stats.t.cdf(t,df=df)\n",
    "\n",
    "print(\"t = \" + str(t))\n",
    "print(\"p = \" + str(2*p))\n",
    "\n",
    "# test if your calculation is correct\n",
    "t2, p2 = stats.ttest_ind(x1,x2)\n",
    "print(\"t = \" + str(t2))\n",
    "print(\"p = \" + str(p2))"
   ]
  },
  {
   "cell_type": "code",
   "execution_count": null,
   "metadata": {},
   "outputs": [],
   "source": []
  }
 ],
 "metadata": {
  "kernelspec": {
   "display_name": "Python 3",
   "language": "python",
   "name": "python3"
  },
  "language_info": {
   "codemirror_mode": {
    "name": "ipython",
    "version": 3
   },
   "file_extension": ".py",
   "mimetype": "text/x-python",
   "name": "python",
   "nbconvert_exporter": "python",
   "pygments_lexer": "ipython3",
   "version": "3.7.1"
  }
 },
 "nbformat": 4,
 "nbformat_minor": 2
}
